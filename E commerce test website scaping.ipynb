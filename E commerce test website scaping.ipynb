{
 "cells": [
  {
   "cell_type": "code",
   "execution_count": 16,
   "id": "ca361f22",
   "metadata": {},
   "outputs": [],
   "source": [
    "import requests\n",
    "from bs4 import BeautifulSoup\n",
    "import pandas as pd"
   ]
  },
  {
   "cell_type": "code",
   "execution_count": 5,
   "id": "25baee3d",
   "metadata": {},
   "outputs": [
    {
     "name": "stdout",
     "output_type": "stream",
     "text": [
      "<Response [200]>\n"
     ]
    }
   ],
   "source": [
    "url = \"https://webscraper.io/test-sites/e-commerce/allinone/computers/tablets\"\n",
    "r = requests.get(url)\n",
    "# print(r)"
   ]
  },
  {
   "cell_type": "code",
   "execution_count": 7,
   "id": "d5d3460a",
   "metadata": {},
   "outputs": [],
   "source": [
    "soup = BeautifulSoup(r.text, \"lxml\")\n",
    "# print(soup)"
   ]
  },
  {
   "cell_type": "code",
   "execution_count": 10,
   "id": "1821be79",
   "metadata": {},
   "outputs": [],
   "source": [
    "# boxes = soup(\"div\",class_=\"col-md-4 col-xl-4 col-lg-4\")\n",
    "# print(boxes)\n",
    "# print(len(boxes))"
   ]
  },
  {
   "cell_type": "code",
   "execution_count": 19,
   "id": "87e201e0",
   "metadata": {},
   "outputs": [],
   "source": [
    "Name = []\n",
    "Price = []"
   ]
  },
  {
   "cell_type": "code",
   "execution_count": 20,
   "id": "6d9ca22c",
   "metadata": {},
   "outputs": [],
   "source": [
    "names = soup.find_all(\"a\",class_=\"title\")\n",
    "# print(names)\n",
    "\n",
    "for i in names:          #To get names of objects only from the HTML\n",
    "    n = i.text\n",
    "    Name.append(n)"
   ]
  },
  {
   "cell_type": "code",
   "execution_count": 21,
   "id": "7d5bdd76",
   "metadata": {},
   "outputs": [],
   "source": [
    "prices  = soup.find_all(\"h4\",class_=\"float-end price card-title pull-right\")\n",
    "for i in prices:\n",
    "    p=i.text\n",
    "    Price.append(p)"
   ]
  },
  {
   "cell_type": "code",
   "execution_count": 29,
   "id": "02093574",
   "metadata": {},
   "outputs": [
    {
     "name": "stdout",
     "output_type": "stream",
     "text": [
      "                 Name    Price\n",
      "1      Lenovo IdeaTab   $69.99\n",
      "2      IdeaTab A3500L   $88.99\n",
      "3         Acer Iconia   $96.99\n",
      "4        Galaxy Tab 3   $97.99\n",
      "5   Iconia B1-730H...   $99.99\n",
      "6       Memo Pad HD 7  $101.99\n",
      "7       Asus MeMO Pad  $102.99\n",
      "8       Amazon Kindle  $103.99\n",
      "9        Galaxy Tab 3  $107.99\n",
      "10      IdeaTab A8-50  $121.99\n",
      "11         MeMO Pad 7  $130.99\n",
      "12  IdeaTab A3500-...  $148.99\n",
      "13      IdeaTab S5000  $172.99\n",
      "14       Galaxy Tab 4  $233.99\n",
      "15         Galaxy Tab  $251.99\n",
      "16  MeMo PAD FHD 1...  $320.99\n",
      "17        Galaxy Note  $399.99\n",
      "18        Galaxy Note  $489.99\n",
      "19  iPad Mini Reti...  $537.99\n",
      "20  Galaxy Note 10...  $587.99\n",
      "21     Apple iPad Air  $603.99\n"
     ]
    }
   ],
   "source": [
    "df = pd.DataFrame({\"Name\":Name,\"Price\":Price})\n",
    "df.index += 1\n",
    "print(df)"
   ]
  },
  {
   "cell_type": "code",
   "execution_count": 32,
   "id": "b26c7b50",
   "metadata": {},
   "outputs": [],
   "source": [
    "df.to_csv(\"E:/vs code projects/Web Scraping tutorial.csv\") #add the path where u want to save the excel file."
   ]
  },
  {
   "cell_type": "code",
   "execution_count": null,
   "id": "1c1d63c3",
   "metadata": {},
   "outputs": [],
   "source": []
  }
 ],
 "metadata": {
  "kernelspec": {
   "display_name": "Python 3 (ipykernel)",
   "language": "python",
   "name": "python3"
  },
  "language_info": {
   "codemirror_mode": {
    "name": "ipython",
    "version": 3
   },
   "file_extension": ".py",
   "mimetype": "text/x-python",
   "name": "python",
   "nbconvert_exporter": "python",
   "pygments_lexer": "ipython3",
   "version": "3.10.9"
  }
 },
 "nbformat": 4,
 "nbformat_minor": 5
}
